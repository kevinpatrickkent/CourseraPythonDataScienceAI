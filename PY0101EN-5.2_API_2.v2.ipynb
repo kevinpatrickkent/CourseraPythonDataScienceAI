{
 "cells": [
  {
   "cell_type": "markdown",
   "id": "e3bd9a9a-e6cd-4e18-b8f7-9eeab34507fb",
   "metadata": {},
   "source": [
    "<center>\n",
    "    <img src=\"https://cf-courses-data.s3.us.cloud-object-storage.appdomain.cloud/assets/logos/SN_web_lightmode.png\" width=\"300\" alt=\"cognitiveclass.ai logo\">\n",
    "</center>\n",
    "\n",
    "# Simple APIs \n",
    "## Random User and Fruitvice API Examples\n",
    "\n",
    "\n",
    "Estimated time needed: **25** minutes\n",
    "\n",
    "## Objectives\n",
    "\n",
    "After completing this lab you will be able to:\n",
    "\n",
    "*   Load and use RandomUser API, using `RandomUser()` Python library\n",
    "*   Load and use Fruitvice API, using `requests` Python library\n",
    "\n"
   ]
  },
  {
   "cell_type": "markdown",
   "id": "faf4be8b-61c2-4e40-9283-ce5633f26fe6",
   "metadata": {},
   "source": [
    "The purpose of this notebook is to provide more examples on how to use simple APIs. As you have already learned from previous videos and notebooks, API stands for Application Programming Interface and is a software intermediary that allows two applications to talk to each other. \n",
    "\n",
    "The advantages of using APIs:\n",
    " *   **Automation**. Less human effort is required and workflows can be easily updated to become faster and more      \n",
    "     productive.\n",
    " *   **Efficiency**. It allows to use the capabilities of one of the already developed APIs than to try to \n",
    "     independently implement some functionality from scratch.\n",
    " \n",
    "The disadvantage of using APIs:\n",
    " *   **Secirity**. If the API is poorly integrated, it means it will be vulnerable to attacks, resulting in data    \n",
    "     breeches or losses having financial or reputation implications.\n",
    "\n",
    "One of the applications we will use in this notebook is Random User Generator. RandomUser is an open-source, free API providing developers with randomly generated users to be used as placeholders for testing purposes. This makes the tool similar to Lorem Ipsum, but is a placeholder for people instead of text. The API can return multiple results, as well as specify generated user details such as gender, email, image, username, address, title, first and last name, and more. More information on [RandomUser](https://randomuser.me/documentation?utm_medium=Exinfluencer&utm_source=Exinfluencer&utm_content=000026UJ&utm_term=10006555&utm_id=NA-SkillsNetwork-Channel-SkillsNetworkCoursesIBMDeveloperSkillsNetworkPY0101ENSkillsNetwork1005-2022-01-01#intro) can be found here.\n",
    "\n",
    "Another example of simple API we will use in this notebook is Fruitvice application. The Fruitvice API webservice which provides data for all kinds of fruit! You can use Fruityvice to find out interesting information about fruit and educate yourself. The webservice is completely free to use and contribute to.\n"
   ]
  },
  {
   "cell_type": "markdown",
   "id": "537afe79-8638-44ef-aa9a-afab5704f423",
   "metadata": {},
   "source": [
    "## Example 1: RandomUser API\n",
    "Bellow are Get Methods parameters that we can generate. For more information on the parameters, please visit this [documentation](https://randomuser.me/documentation?utm_medium=Exinfluencer&utm_source=Exinfluencer&utm_content=000026UJ&utm_term=10006555&utm_id=NA-SkillsNetwork-Channel-SkillsNetworkCoursesIBMDeveloperSkillsNetworkPY0101ENSkillsNetwork1005-2022-01-01) page.\n"
   ]
  },
  {
   "cell_type": "markdown",
   "id": "13eff4b5-3528-4cc7-a012-b9a7d7795aab",
   "metadata": {},
   "source": [
    "## **Get Methods**\n",
    "\n",
    "- get_cell()\n",
    "- get_city()\n",
    "- get_dob()\n",
    "- get_email()\n",
    "- get_first_name()\n",
    "- get_full_name()\n",
    "- get_gender()\n",
    "- get_id()\n",
    "- get_id_number()\n",
    "- get_id_type()\n",
    "- get_info()\n",
    "- get_last_name()\n",
    "- get_login_md5()\n",
    "- get_login_salt()\n",
    "- get_login_sha1()\n",
    "- get_login_sha256()\n",
    "- get_nat()\n",
    "- get_password()\n",
    "- get_phone()\n",
    "- get_picture()\n",
    "- get_postcode()\n",
    "- get_registered()\n",
    "- get_state()\n",
    "- get_street()\n",
    "- get_username()\n",
    "- get_zipcode()\n"
   ]
  },
  {
   "cell_type": "markdown",
   "id": "272de567-28e5-41e5-a826-6004cb99599e",
   "metadata": {},
   "source": [
    "To start using the API you can install the `randomuser` library running the `pip install` command.\n"
   ]
  },
  {
   "cell_type": "code",
   "execution_count": 1,
   "id": "3303e087-be18-4df0-a4d3-fb907d33cf85",
   "metadata": {},
   "outputs": [
    {
     "name": "stdout",
     "output_type": "stream",
     "text": [
      "Collecting randomuser\n",
      "  Downloading randomuser-1.6.tar.gz (5.0 kB)\n",
      "  Preparing metadata (setup.py): started\n",
      "  Preparing metadata (setup.py): finished with status 'done'\n",
      "Building wheels for collected packages: randomuser\n",
      "  Building wheel for randomuser (setup.py): started\n",
      "  Building wheel for randomuser (setup.py): finished with status 'done'\n",
      "  Created wheel for randomuser: filename=randomuser-1.6-py3-none-any.whl size=5067 sha256=96610e60dfcad7d6c3ba7707dc211fe007ac0287e16740a0cf9a3c2e97e25137\n",
      "  Stored in directory: c:\\users\\kevin\\appdata\\local\\pip\\cache\\wheels\\41\\6f\\23\\878c103a235dc2d4e85a3965c124aae8a28470c541b81aa2ba\n",
      "Successfully built randomuser\n",
      "Installing collected packages: randomuser\n",
      "Successfully installed randomuser-1.6\n"
     ]
    }
   ],
   "source": [
    "!pip install randomuser"
   ]
  },
  {
   "cell_type": "markdown",
   "id": "2e943801-2287-43e0-a0de-2e88c7ab2997",
   "metadata": {},
   "source": [
    "Then, we will load the necessary libraries.\n"
   ]
  },
  {
   "cell_type": "code",
   "execution_count": 11,
   "id": "2e6fb3ac-4b0a-4fd4-bafe-9ababb5cfef4",
   "metadata": {},
   "outputs": [],
   "source": [
    "from randomuser import RandomUser\n",
    "import pandas as pd\n",
    "from IPython.display import Image"
   ]
  },
  {
   "cell_type": "markdown",
   "id": "609eb1c1-3c16-4381-acf0-896800a6afb6",
   "metadata": {},
   "source": [
    "First, we will create a random user object, r.\n"
   ]
  },
  {
   "cell_type": "code",
   "execution_count": 3,
   "id": "6d875f14-ef54-4c7a-9bfd-be93619558ac",
   "metadata": {},
   "outputs": [],
   "source": [
    "r = RandomUser()"
   ]
  },
  {
   "cell_type": "markdown",
   "id": "990d2b02-a1dd-4305-ba21-8729d929ab53",
   "metadata": {},
   "source": [
    "Then, using `generate_users()` function, we get a list of random 10 users.\n"
   ]
  },
  {
   "cell_type": "code",
   "execution_count": 4,
   "id": "719dd960-4819-4f29-8ce5-59d4560d9b81",
   "metadata": {},
   "outputs": [],
   "source": [
    "some_list = r.generate_users(10)"
   ]
  },
  {
   "cell_type": "code",
   "execution_count": 5,
   "id": "565f9b93-5dc0-4d59-a0f6-30b829a3748f",
   "metadata": {},
   "outputs": [
    {
     "data": {
      "text/plain": [
       "[<randomuser.RandomUser at 0x2ed9f873250>,\n",
       " <randomuser.RandomUser at 0x2eda1f85d90>,\n",
       " <randomuser.RandomUser at 0x2eda1f85f40>,\n",
       " <randomuser.RandomUser at 0x2eda1f85f10>,\n",
       " <randomuser.RandomUser at 0x2eda1f85e20>,\n",
       " <randomuser.RandomUser at 0x2eda1f85eb0>,\n",
       " <randomuser.RandomUser at 0x2eda1f85f70>,\n",
       " <randomuser.RandomUser at 0x2eda1f85fd0>,\n",
       " <randomuser.RandomUser at 0x2eda1f85ee0>,\n",
       " <randomuser.RandomUser at 0x2eda1f85dc0>]"
      ]
     },
     "execution_count": 5,
     "metadata": {},
     "output_type": "execute_result"
    }
   ],
   "source": [
    "some_list"
   ]
  },
  {
   "cell_type": "markdown",
   "id": "29191364-9ae7-40f1-bdce-14ea874c9db9",
   "metadata": {},
   "source": [
    "The **\"Get Methods\"** functions mentioned at the beginning of this notebook, can generate the required parameters to construct a dataset. For example, to get full name, we call `get_full_name()` function.\n"
   ]
  },
  {
   "cell_type": "code",
   "execution_count": 7,
   "id": "98303bd3-435b-4487-8507-a4fa385237c2",
   "metadata": {},
   "outputs": [
    {
     "data": {
      "text/plain": [
       "'Kaitlin Rice'"
      ]
     },
     "execution_count": 7,
     "metadata": {},
     "output_type": "execute_result"
    }
   ],
   "source": [
    "name = r.get_full_name()\n",
    "name"
   ]
  },
  {
   "cell_type": "markdown",
   "id": "39e7ddac-414a-40b4-aec0-b2c93c6688d7",
   "metadata": {},
   "source": [
    "Let's say we only need 10 users with full names and their email addresses. We can write a \"for-loop\" to print these 10 users.\n"
   ]
  },
  {
   "cell_type": "code",
   "execution_count": 8,
   "id": "fc4df431-d0ee-403c-8ca7-725c082ead97",
   "metadata": {},
   "outputs": [
    {
     "name": "stdout",
     "output_type": "stream",
     "text": [
      "مریم زارعی   mrym.zraay@example.com\n",
      "Karianne Punt   karianne.punt@example.com\n",
      "Inara Pereira   inara.pereira@example.com\n",
      "Louella Harrison   louella.harrison@example.com\n",
      "Stephanie Holland   stephanie.holland@example.com\n",
      "مهراد جعفری   mhrd.jaafry@example.com\n",
      "Mary Castro   mary.castro@example.com\n",
      "Justine Fortin   justine.fortin@example.com\n",
      "Leona Austin   leona.austin@example.com\n",
      "Matteo Simon   matteo.simon@example.com\n"
     ]
    }
   ],
   "source": [
    "for user in some_list:\n",
    "    print (user.get_full_name(),\" \",user.get_email())"
   ]
  },
  {
   "cell_type": "markdown",
   "id": "c3d42721-4e99-45a9-9b4b-8ba40e067af2",
   "metadata": {},
   "source": [
    "## Exercise 1\n",
    "In this Exercise, generate photos of the random 5 users.\n"
   ]
  },
  {
   "cell_type": "code",
   "execution_count": 19,
   "id": "aee864df-938c-41f8-b662-721bdb2fa07f",
   "metadata": {},
   "outputs": [
    {
     "name": "stdout",
     "output_type": "stream",
     "text": [
      "https://randomuser.me/api/portraits/women/21.jpg\n",
      "https://randomuser.me/api/portraits/women/5.jpg\n",
      "https://randomuser.me/api/portraits/women/10.jpg\n",
      "https://randomuser.me/api/portraits/women/46.jpg\n",
      "https://randomuser.me/api/portraits/women/61.jpg\n",
      "https://randomuser.me/api/portraits/men/67.jpg\n",
      "https://randomuser.me/api/portraits/women/90.jpg\n",
      "https://randomuser.me/api/portraits/women/23.jpg\n",
      "https://randomuser.me/api/portraits/women/10.jpg\n",
      "https://randomuser.me/api/portraits/men/89.jpg\n"
     ]
    }
   ],
   "source": [
    "## Write your code here\n",
    "\n",
    "for user in some_list:\n",
    "    print(user.get_picture())\n"
   ]
  },
  {
   "cell_type": "markdown",
   "id": "e2d2f60d-38bb-4cc0-a3e1-632a2de2bac9",
   "metadata": {},
   "source": [
    "<details><summary>Click here for the solution</summary>\n",
    "\n",
    "```python\n",
    "for user in some_list:\n",
    "    print (user.get_picture())\n",
    "```\n",
    "\n",
    "</details>\n"
   ]
  },
  {
   "cell_type": "markdown",
   "id": "4fb049fa-6ae1-4844-88c8-9b4cb71945c1",
   "metadata": {},
   "source": [
    "To generate a table with information about the users, we can write a function containing all desirable parameters. For example, name, gender, city, etc. The parameters will depend on the requirements of the test to be performed. We call the Get Methods, listed at the beginning of this notebook. Then, we return pandas dataframe with the users.\n"
   ]
  },
  {
   "cell_type": "code",
   "execution_count": 36,
   "id": "5bef8951-0a24-4f52-83e2-7bdfe5249114",
   "metadata": {},
   "outputs": [],
   "source": [
    "# they first made a list of dicts and then converted that to a dataframe.  Had to make a note because I'm\n",
    "# used to making a dict of lists.  Both work\n",
    "\n",
    "def get_users():\n",
    "    users =[]\n",
    "     \n",
    "    for user in RandomUser.generate_users(10):\n",
    "        users.append({\"Name\":user.get_full_name(),\"Gender\":user.get_gender(),\"City\":user.get_city(),\"State\":user.get_state(),\"Email\":user.get_email(), \"DOB\":user.get_dob(),\"Picture\":user.get_picture()})\n",
    "        \n",
    "    return pd.DataFrame(users)     "
   ]
  },
  {
   "cell_type": "code",
   "execution_count": 41,
   "id": "c7d05c65-826e-4d96-9815-ebfbc5bae1a2",
   "metadata": {},
   "outputs": [
    {
     "data": {
      "text/html": [
       "<div>\n",
       "<style scoped>\n",
       "    .dataframe tbody tr th:only-of-type {\n",
       "        vertical-align: middle;\n",
       "    }\n",
       "\n",
       "    .dataframe tbody tr th {\n",
       "        vertical-align: top;\n",
       "    }\n",
       "\n",
       "    .dataframe thead th {\n",
       "        text-align: right;\n",
       "    }\n",
       "</style>\n",
       "<table border=\"1\" class=\"dataframe\">\n",
       "  <thead>\n",
       "    <tr style=\"text-align: right;\">\n",
       "      <th></th>\n",
       "      <th>Name</th>\n",
       "      <th>Gender</th>\n",
       "      <th>City</th>\n",
       "      <th>State</th>\n",
       "      <th>Email</th>\n",
       "      <th>DOB</th>\n",
       "      <th>Picture</th>\n",
       "    </tr>\n",
       "  </thead>\n",
       "  <tbody>\n",
       "    <tr>\n",
       "      <th>0</th>\n",
       "      <td>Niara Mendes</td>\n",
       "      <td>female</td>\n",
       "      <td>Ribeirão Preto</td>\n",
       "      <td>Pernambuco</td>\n",
       "      <td>niara.mendes@example.com</td>\n",
       "      <td>1963-11-09T00:05:13.372Z</td>\n",
       "      <td>https://randomuser.me/api/portraits/women/20.jpg</td>\n",
       "    </tr>\n",
       "    <tr>\n",
       "      <th>1</th>\n",
       "      <td>Blerim Marie</td>\n",
       "      <td>male</td>\n",
       "      <td>Medel (Lucmagn)</td>\n",
       "      <td>Nidwalden</td>\n",
       "      <td>blerim.marie@example.com</td>\n",
       "      <td>1948-06-23T08:35:41.286Z</td>\n",
       "      <td>https://randomuser.me/api/portraits/men/76.jpg</td>\n",
       "    </tr>\n",
       "    <tr>\n",
       "      <th>2</th>\n",
       "      <td>Megan Jones</td>\n",
       "      <td>female</td>\n",
       "      <td>Stirling</td>\n",
       "      <td>South Glamorgan</td>\n",
       "      <td>megan.jones@example.com</td>\n",
       "      <td>1986-08-27T03:06:47.858Z</td>\n",
       "      <td>https://randomuser.me/api/portraits/women/25.jpg</td>\n",
       "    </tr>\n",
       "    <tr>\n",
       "      <th>3</th>\n",
       "      <td>Roman Clarke</td>\n",
       "      <td>male</td>\n",
       "      <td>Upper Hutt</td>\n",
       "      <td>Wellington</td>\n",
       "      <td>roman.clarke@example.com</td>\n",
       "      <td>1965-02-15T05:49:36.394Z</td>\n",
       "      <td>https://randomuser.me/api/portraits/men/67.jpg</td>\n",
       "    </tr>\n",
       "    <tr>\n",
       "      <th>4</th>\n",
       "      <td>Tristan Walters</td>\n",
       "      <td>male</td>\n",
       "      <td>Athy</td>\n",
       "      <td>Donegal</td>\n",
       "      <td>tristan.walters@example.com</td>\n",
       "      <td>1969-05-03T15:52:14.963Z</td>\n",
       "      <td>https://randomuser.me/api/portraits/men/12.jpg</td>\n",
       "    </tr>\n",
       "    <tr>\n",
       "      <th>5</th>\n",
       "      <td>Gökhan Tuğluk</td>\n",
       "      <td>male</td>\n",
       "      <td>Bolu</td>\n",
       "      <td>Ağrı</td>\n",
       "      <td>gokhan.tugluk@example.com</td>\n",
       "      <td>1951-11-11T14:33:38.795Z</td>\n",
       "      <td>https://randomuser.me/api/portraits/men/42.jpg</td>\n",
       "    </tr>\n",
       "    <tr>\n",
       "      <th>6</th>\n",
       "      <td>Walther Denker</td>\n",
       "      <td>male</td>\n",
       "      <td>Regensburg</td>\n",
       "      <td>Saarland</td>\n",
       "      <td>walther.denker@example.com</td>\n",
       "      <td>1959-01-09T08:47:39.332Z</td>\n",
       "      <td>https://randomuser.me/api/portraits/men/26.jpg</td>\n",
       "    </tr>\n",
       "    <tr>\n",
       "      <th>7</th>\n",
       "      <td>Ronnie Gardner</td>\n",
       "      <td>male</td>\n",
       "      <td>Castlebar</td>\n",
       "      <td>South Dublin</td>\n",
       "      <td>ronnie.gardner@example.com</td>\n",
       "      <td>1972-03-27T10:43:33.339Z</td>\n",
       "      <td>https://randomuser.me/api/portraits/men/47.jpg</td>\n",
       "    </tr>\n",
       "    <tr>\n",
       "      <th>8</th>\n",
       "      <td>Siiri Pulkkinen</td>\n",
       "      <td>female</td>\n",
       "      <td>Hanko</td>\n",
       "      <td>South Karelia</td>\n",
       "      <td>siiri.pulkkinen@example.com</td>\n",
       "      <td>1965-02-04T11:38:36.362Z</td>\n",
       "      <td>https://randomuser.me/api/portraits/women/94.jpg</td>\n",
       "    </tr>\n",
       "    <tr>\n",
       "      <th>9</th>\n",
       "      <td>Juliette Garcia</td>\n",
       "      <td>female</td>\n",
       "      <td>Tourcoing</td>\n",
       "      <td>Val-de-Marne</td>\n",
       "      <td>juliette.garcia@example.com</td>\n",
       "      <td>1991-12-17T20:11:45.532Z</td>\n",
       "      <td>https://randomuser.me/api/portraits/women/79.jpg</td>\n",
       "    </tr>\n",
       "  </tbody>\n",
       "</table>\n",
       "</div>"
      ],
      "text/plain": [
       "              Name  Gender             City            State  \\\n",
       "0     Niara Mendes  female   Ribeirão Preto       Pernambuco   \n",
       "1     Blerim Marie    male  Medel (Lucmagn)        Nidwalden   \n",
       "2      Megan Jones  female         Stirling  South Glamorgan   \n",
       "3     Roman Clarke    male       Upper Hutt       Wellington   \n",
       "4  Tristan Walters    male             Athy          Donegal   \n",
       "5    Gökhan Tuğluk    male             Bolu             Ağrı   \n",
       "6   Walther Denker    male       Regensburg         Saarland   \n",
       "7   Ronnie Gardner    male        Castlebar     South Dublin   \n",
       "8  Siiri Pulkkinen  female            Hanko    South Karelia   \n",
       "9  Juliette Garcia  female        Tourcoing     Val-de-Marne   \n",
       "\n",
       "                         Email                       DOB  \\\n",
       "0     niara.mendes@example.com  1963-11-09T00:05:13.372Z   \n",
       "1     blerim.marie@example.com  1948-06-23T08:35:41.286Z   \n",
       "2      megan.jones@example.com  1986-08-27T03:06:47.858Z   \n",
       "3     roman.clarke@example.com  1965-02-15T05:49:36.394Z   \n",
       "4  tristan.walters@example.com  1969-05-03T15:52:14.963Z   \n",
       "5    gokhan.tugluk@example.com  1951-11-11T14:33:38.795Z   \n",
       "6   walther.denker@example.com  1959-01-09T08:47:39.332Z   \n",
       "7   ronnie.gardner@example.com  1972-03-27T10:43:33.339Z   \n",
       "8  siiri.pulkkinen@example.com  1965-02-04T11:38:36.362Z   \n",
       "9  juliette.garcia@example.com  1991-12-17T20:11:45.532Z   \n",
       "\n",
       "                                            Picture  \n",
       "0  https://randomuser.me/api/portraits/women/20.jpg  \n",
       "1    https://randomuser.me/api/portraits/men/76.jpg  \n",
       "2  https://randomuser.me/api/portraits/women/25.jpg  \n",
       "3    https://randomuser.me/api/portraits/men/67.jpg  \n",
       "4    https://randomuser.me/api/portraits/men/12.jpg  \n",
       "5    https://randomuser.me/api/portraits/men/42.jpg  \n",
       "6    https://randomuser.me/api/portraits/men/26.jpg  \n",
       "7    https://randomuser.me/api/portraits/men/47.jpg  \n",
       "8  https://randomuser.me/api/portraits/women/94.jpg  \n",
       "9  https://randomuser.me/api/portraits/women/79.jpg  "
      ]
     },
     "execution_count": 41,
     "metadata": {},
     "output_type": "execute_result"
    }
   ],
   "source": [
    "get_users()"
   ]
  },
  {
   "cell_type": "code",
   "execution_count": 42,
   "id": "0a2cda2a-a364-4e71-8c3a-39acac424728",
   "metadata": {},
   "outputs": [],
   "source": [
    "df1 = pd.DataFrame(get_users())  "
   ]
  },
  {
   "cell_type": "markdown",
   "id": "27c8eac9-b382-4df2-aaf3-82837d111ba2",
   "metadata": {},
   "source": [
    "Now we have a *pandas* dataframe that can be used for any testing purposes that the tester might have.\n"
   ]
  },
  {
   "cell_type": "markdown",
   "id": "48bed39a-4530-4a43-bfee-dda5c4ed8680",
   "metadata": {},
   "source": [
    "## Example 2: Fruitvice API\n",
    "\n",
    "Another, more common way to use APIs, is through `requests` library. The next lab, Requests and HTTP, will contain more information about requests.\n",
    "\n",
    "We will start by importing all required libraries.\n"
   ]
  },
  {
   "cell_type": "code",
   "execution_count": 52,
   "id": "b870d2df-34b7-40ab-8590-3f332c98dd29",
   "metadata": {},
   "outputs": [],
   "source": [
    "import requests\n",
    "import json"
   ]
  },
  {
   "cell_type": "markdown",
   "id": "cc03067a-d7fc-4fec-b40f-edbc377edf70",
   "metadata": {},
   "source": [
    "We will obtain the [fruitvice](https://www.fruityvice.com/?utm_medium=Exinfluencer&utm_source=Exinfluencer&utm_content=000026UJ&utm_term=10006555&utm_id=NA-SkillsNetwork-Channel-SkillsNetworkCoursesIBMDeveloperSkillsNetworkPY0101ENSkillsNetwork1005-2022-01-01) API data using `requests.get(\"url\")` function. The data is in a json format.\n"
   ]
  },
  {
   "cell_type": "code",
   "execution_count": 66,
   "id": "d6666070-6137-4fb0-8ae0-685ca9fa6263",
   "metadata": {},
   "outputs": [
    {
     "ename": "SSLError",
     "evalue": "HTTPSConnectionPool(host='www.fruityvice.com', port=443): Max retries exceeded with url: /api/fruit/all (Caused by SSLError(CertificateError(\"hostname 'www.fruityvice.com' doesn't match either of 'fruityvice.com', 'sonarqube.fruityvice.com'\")))",
     "output_type": "error",
     "traceback": [
      "\u001b[1;31m---------------------------------------------------------------------------\u001b[0m",
      "\u001b[1;31mCertificateError\u001b[0m                          Traceback (most recent call last)",
      "\u001b[1;32m~\\anaconda3\\lib\\site-packages\\urllib3\\connectionpool.py\u001b[0m in \u001b[0;36murlopen\u001b[1;34m(self, method, url, body, headers, retries, redirect, assert_same_host, timeout, pool_timeout, release_conn, chunked, body_pos, **response_kw)\u001b[0m\n\u001b[0;32m    702\u001b[0m             \u001b[1;31m# Make the request on the httplib connection object.\u001b[0m\u001b[1;33m\u001b[0m\u001b[1;33m\u001b[0m\u001b[0m\n\u001b[1;32m--> 703\u001b[1;33m             httplib_response = self._make_request(\n\u001b[0m\u001b[0;32m    704\u001b[0m                 \u001b[0mconn\u001b[0m\u001b[1;33m,\u001b[0m\u001b[1;33m\u001b[0m\u001b[1;33m\u001b[0m\u001b[0m\n",
      "\u001b[1;32m~\\anaconda3\\lib\\site-packages\\urllib3\\connectionpool.py\u001b[0m in \u001b[0;36m_make_request\u001b[1;34m(self, conn, method, url, timeout, chunked, **httplib_request_kw)\u001b[0m\n\u001b[0;32m    385\u001b[0m         \u001b[1;32mtry\u001b[0m\u001b[1;33m:\u001b[0m\u001b[1;33m\u001b[0m\u001b[1;33m\u001b[0m\u001b[0m\n\u001b[1;32m--> 386\u001b[1;33m             \u001b[0mself\u001b[0m\u001b[1;33m.\u001b[0m\u001b[0m_validate_conn\u001b[0m\u001b[1;33m(\u001b[0m\u001b[0mconn\u001b[0m\u001b[1;33m)\u001b[0m\u001b[1;33m\u001b[0m\u001b[1;33m\u001b[0m\u001b[0m\n\u001b[0m\u001b[0;32m    387\u001b[0m         \u001b[1;32mexcept\u001b[0m \u001b[1;33m(\u001b[0m\u001b[0mSocketTimeout\u001b[0m\u001b[1;33m,\u001b[0m \u001b[0mBaseSSLError\u001b[0m\u001b[1;33m)\u001b[0m \u001b[1;32mas\u001b[0m \u001b[0me\u001b[0m\u001b[1;33m:\u001b[0m\u001b[1;33m\u001b[0m\u001b[1;33m\u001b[0m\u001b[0m\n",
      "\u001b[1;32m~\\anaconda3\\lib\\site-packages\\urllib3\\connectionpool.py\u001b[0m in \u001b[0;36m_validate_conn\u001b[1;34m(self, conn)\u001b[0m\n\u001b[0;32m   1041\u001b[0m         \u001b[1;32mif\u001b[0m \u001b[1;32mnot\u001b[0m \u001b[0mgetattr\u001b[0m\u001b[1;33m(\u001b[0m\u001b[0mconn\u001b[0m\u001b[1;33m,\u001b[0m \u001b[1;34m\"sock\"\u001b[0m\u001b[1;33m,\u001b[0m \u001b[1;32mNone\u001b[0m\u001b[1;33m)\u001b[0m\u001b[1;33m:\u001b[0m  \u001b[1;31m# AppEngine might not have  `.sock`\u001b[0m\u001b[1;33m\u001b[0m\u001b[1;33m\u001b[0m\u001b[0m\n\u001b[1;32m-> 1042\u001b[1;33m             \u001b[0mconn\u001b[0m\u001b[1;33m.\u001b[0m\u001b[0mconnect\u001b[0m\u001b[1;33m(\u001b[0m\u001b[1;33m)\u001b[0m\u001b[1;33m\u001b[0m\u001b[1;33m\u001b[0m\u001b[0m\n\u001b[0m\u001b[0;32m   1043\u001b[0m \u001b[1;33m\u001b[0m\u001b[0m\n",
      "\u001b[1;32m~\\anaconda3\\lib\\site-packages\\urllib3\\connection.py\u001b[0m in \u001b[0;36mconnect\u001b[1;34m(self)\u001b[0m\n\u001b[0;32m    466\u001b[0m                 )\n\u001b[1;32m--> 467\u001b[1;33m             \u001b[0m_match_hostname\u001b[0m\u001b[1;33m(\u001b[0m\u001b[0mcert\u001b[0m\u001b[1;33m,\u001b[0m \u001b[0mself\u001b[0m\u001b[1;33m.\u001b[0m\u001b[0massert_hostname\u001b[0m \u001b[1;32mor\u001b[0m \u001b[0mserver_hostname\u001b[0m\u001b[1;33m)\u001b[0m\u001b[1;33m\u001b[0m\u001b[1;33m\u001b[0m\u001b[0m\n\u001b[0m\u001b[0;32m    468\u001b[0m \u001b[1;33m\u001b[0m\u001b[0m\n",
      "\u001b[1;32m~\\anaconda3\\lib\\site-packages\\urllib3\\connection.py\u001b[0m in \u001b[0;36m_match_hostname\u001b[1;34m(cert, asserted_hostname)\u001b[0m\n\u001b[0;32m    539\u001b[0m     \u001b[1;32mtry\u001b[0m\u001b[1;33m:\u001b[0m\u001b[1;33m\u001b[0m\u001b[1;33m\u001b[0m\u001b[0m\n\u001b[1;32m--> 540\u001b[1;33m         \u001b[0mmatch_hostname\u001b[0m\u001b[1;33m(\u001b[0m\u001b[0mcert\u001b[0m\u001b[1;33m,\u001b[0m \u001b[0masserted_hostname\u001b[0m\u001b[1;33m)\u001b[0m\u001b[1;33m\u001b[0m\u001b[1;33m\u001b[0m\u001b[0m\n\u001b[0m\u001b[0;32m    541\u001b[0m     \u001b[1;32mexcept\u001b[0m \u001b[0mCertificateError\u001b[0m \u001b[1;32mas\u001b[0m \u001b[0me\u001b[0m\u001b[1;33m:\u001b[0m\u001b[1;33m\u001b[0m\u001b[1;33m\u001b[0m\u001b[0m\n",
      "\u001b[1;32m~\\anaconda3\\lib\\site-packages\\urllib3\\util\\ssl_match_hostname.py\u001b[0m in \u001b[0;36mmatch_hostname\u001b[1;34m(cert, hostname)\u001b[0m\n\u001b[0;32m    149\u001b[0m     \u001b[1;32mif\u001b[0m \u001b[0mlen\u001b[0m\u001b[1;33m(\u001b[0m\u001b[0mdnsnames\u001b[0m\u001b[1;33m)\u001b[0m \u001b[1;33m>\u001b[0m \u001b[1;36m1\u001b[0m\u001b[1;33m:\u001b[0m\u001b[1;33m\u001b[0m\u001b[1;33m\u001b[0m\u001b[0m\n\u001b[1;32m--> 150\u001b[1;33m         raise CertificateError(\n\u001b[0m\u001b[0;32m    151\u001b[0m             \u001b[1;34m\"hostname %r \"\u001b[0m\u001b[1;33m\u001b[0m\u001b[1;33m\u001b[0m\u001b[0m\n",
      "\u001b[1;31mCertificateError\u001b[0m: hostname 'www.fruityvice.com' doesn't match either of 'fruityvice.com', 'sonarqube.fruityvice.com'",
      "\nDuring handling of the above exception, another exception occurred:\n",
      "\u001b[1;31mMaxRetryError\u001b[0m                             Traceback (most recent call last)",
      "\u001b[1;32m~\\anaconda3\\lib\\site-packages\\requests\\adapters.py\u001b[0m in \u001b[0;36msend\u001b[1;34m(self, request, stream, timeout, verify, cert, proxies)\u001b[0m\n\u001b[0;32m    488\u001b[0m             \u001b[1;32mif\u001b[0m \u001b[1;32mnot\u001b[0m \u001b[0mchunked\u001b[0m\u001b[1;33m:\u001b[0m\u001b[1;33m\u001b[0m\u001b[1;33m\u001b[0m\u001b[0m\n\u001b[1;32m--> 489\u001b[1;33m                 resp = conn.urlopen(\n\u001b[0m\u001b[0;32m    490\u001b[0m                     \u001b[0mmethod\u001b[0m\u001b[1;33m=\u001b[0m\u001b[0mrequest\u001b[0m\u001b[1;33m.\u001b[0m\u001b[0mmethod\u001b[0m\u001b[1;33m,\u001b[0m\u001b[1;33m\u001b[0m\u001b[1;33m\u001b[0m\u001b[0m\n",
      "\u001b[1;32m~\\anaconda3\\lib\\site-packages\\urllib3\\connectionpool.py\u001b[0m in \u001b[0;36murlopen\u001b[1;34m(self, method, url, body, headers, retries, redirect, assert_same_host, timeout, pool_timeout, release_conn, chunked, body_pos, **response_kw)\u001b[0m\n\u001b[0;32m    786\u001b[0m \u001b[1;33m\u001b[0m\u001b[0m\n\u001b[1;32m--> 787\u001b[1;33m             retries = retries.increment(\n\u001b[0m\u001b[0;32m    788\u001b[0m                 \u001b[0mmethod\u001b[0m\u001b[1;33m,\u001b[0m \u001b[0murl\u001b[0m\u001b[1;33m,\u001b[0m \u001b[0merror\u001b[0m\u001b[1;33m=\u001b[0m\u001b[0me\u001b[0m\u001b[1;33m,\u001b[0m \u001b[0m_pool\u001b[0m\u001b[1;33m=\u001b[0m\u001b[0mself\u001b[0m\u001b[1;33m,\u001b[0m \u001b[0m_stacktrace\u001b[0m\u001b[1;33m=\u001b[0m\u001b[0msys\u001b[0m\u001b[1;33m.\u001b[0m\u001b[0mexc_info\u001b[0m\u001b[1;33m(\u001b[0m\u001b[1;33m)\u001b[0m\u001b[1;33m[\u001b[0m\u001b[1;36m2\u001b[0m\u001b[1;33m]\u001b[0m\u001b[1;33m\u001b[0m\u001b[1;33m\u001b[0m\u001b[0m\n",
      "\u001b[1;32m~\\anaconda3\\lib\\site-packages\\urllib3\\util\\retry.py\u001b[0m in \u001b[0;36mincrement\u001b[1;34m(self, method, url, response, error, _pool, _stacktrace)\u001b[0m\n\u001b[0;32m    591\u001b[0m         \u001b[1;32mif\u001b[0m \u001b[0mnew_retry\u001b[0m\u001b[1;33m.\u001b[0m\u001b[0mis_exhausted\u001b[0m\u001b[1;33m(\u001b[0m\u001b[1;33m)\u001b[0m\u001b[1;33m:\u001b[0m\u001b[1;33m\u001b[0m\u001b[1;33m\u001b[0m\u001b[0m\n\u001b[1;32m--> 592\u001b[1;33m             \u001b[1;32mraise\u001b[0m \u001b[0mMaxRetryError\u001b[0m\u001b[1;33m(\u001b[0m\u001b[0m_pool\u001b[0m\u001b[1;33m,\u001b[0m \u001b[0murl\u001b[0m\u001b[1;33m,\u001b[0m \u001b[0merror\u001b[0m \u001b[1;32mor\u001b[0m \u001b[0mResponseError\u001b[0m\u001b[1;33m(\u001b[0m\u001b[0mcause\u001b[0m\u001b[1;33m)\u001b[0m\u001b[1;33m)\u001b[0m\u001b[1;33m\u001b[0m\u001b[1;33m\u001b[0m\u001b[0m\n\u001b[0m\u001b[0;32m    593\u001b[0m \u001b[1;33m\u001b[0m\u001b[0m\n",
      "\u001b[1;31mMaxRetryError\u001b[0m: HTTPSConnectionPool(host='www.fruityvice.com', port=443): Max retries exceeded with url: /api/fruit/all (Caused by SSLError(CertificateError(\"hostname 'www.fruityvice.com' doesn't match either of 'fruityvice.com', 'sonarqube.fruityvice.com'\")))",
      "\nDuring handling of the above exception, another exception occurred:\n",
      "\u001b[1;31mSSLError\u001b[0m                                  Traceback (most recent call last)",
      "\u001b[1;32m~\\AppData\\Local\\Temp\\ipykernel_22524\\2628024875.py\u001b[0m in \u001b[0;36m<module>\u001b[1;34m\u001b[0m\n\u001b[0;32m      2\u001b[0m \u001b[1;31m# CertificateError: hostname 'www.fruityvice.com' doesn't match either of 'fruityvice.com', 'sonarqube.fruityvice.com'\u001b[0m\u001b[1;33m\u001b[0m\u001b[1;33m\u001b[0m\u001b[0m\n\u001b[0;32m      3\u001b[0m \u001b[1;33m\u001b[0m\u001b[0m\n\u001b[1;32m----> 4\u001b[1;33m \u001b[0mdata\u001b[0m \u001b[1;33m=\u001b[0m \u001b[0mrequests\u001b[0m\u001b[1;33m.\u001b[0m\u001b[0mget\u001b[0m\u001b[1;33m(\u001b[0m\u001b[1;34m\"https://www.fruityvice.com/api/fruit/all\"\u001b[0m\u001b[1;33m)\u001b[0m\u001b[1;33m\u001b[0m\u001b[1;33m\u001b[0m\u001b[0m\n\u001b[0m",
      "\u001b[1;32m~\\anaconda3\\lib\\site-packages\\requests\\api.py\u001b[0m in \u001b[0;36mget\u001b[1;34m(url, params, **kwargs)\u001b[0m\n\u001b[0;32m     71\u001b[0m     \"\"\"\n\u001b[0;32m     72\u001b[0m \u001b[1;33m\u001b[0m\u001b[0m\n\u001b[1;32m---> 73\u001b[1;33m     \u001b[1;32mreturn\u001b[0m \u001b[0mrequest\u001b[0m\u001b[1;33m(\u001b[0m\u001b[1;34m\"get\"\u001b[0m\u001b[1;33m,\u001b[0m \u001b[0murl\u001b[0m\u001b[1;33m,\u001b[0m \u001b[0mparams\u001b[0m\u001b[1;33m=\u001b[0m\u001b[0mparams\u001b[0m\u001b[1;33m,\u001b[0m \u001b[1;33m**\u001b[0m\u001b[0mkwargs\u001b[0m\u001b[1;33m)\u001b[0m\u001b[1;33m\u001b[0m\u001b[1;33m\u001b[0m\u001b[0m\n\u001b[0m\u001b[0;32m     74\u001b[0m \u001b[1;33m\u001b[0m\u001b[0m\n\u001b[0;32m     75\u001b[0m \u001b[1;33m\u001b[0m\u001b[0m\n",
      "\u001b[1;32m~\\anaconda3\\lib\\site-packages\\requests\\api.py\u001b[0m in \u001b[0;36mrequest\u001b[1;34m(method, url, **kwargs)\u001b[0m\n\u001b[0;32m     57\u001b[0m     \u001b[1;31m# cases, and look like a memory leak in others.\u001b[0m\u001b[1;33m\u001b[0m\u001b[1;33m\u001b[0m\u001b[0m\n\u001b[0;32m     58\u001b[0m     \u001b[1;32mwith\u001b[0m \u001b[0msessions\u001b[0m\u001b[1;33m.\u001b[0m\u001b[0mSession\u001b[0m\u001b[1;33m(\u001b[0m\u001b[1;33m)\u001b[0m \u001b[1;32mas\u001b[0m \u001b[0msession\u001b[0m\u001b[1;33m:\u001b[0m\u001b[1;33m\u001b[0m\u001b[1;33m\u001b[0m\u001b[0m\n\u001b[1;32m---> 59\u001b[1;33m         \u001b[1;32mreturn\u001b[0m \u001b[0msession\u001b[0m\u001b[1;33m.\u001b[0m\u001b[0mrequest\u001b[0m\u001b[1;33m(\u001b[0m\u001b[0mmethod\u001b[0m\u001b[1;33m=\u001b[0m\u001b[0mmethod\u001b[0m\u001b[1;33m,\u001b[0m \u001b[0murl\u001b[0m\u001b[1;33m=\u001b[0m\u001b[0murl\u001b[0m\u001b[1;33m,\u001b[0m \u001b[1;33m**\u001b[0m\u001b[0mkwargs\u001b[0m\u001b[1;33m)\u001b[0m\u001b[1;33m\u001b[0m\u001b[1;33m\u001b[0m\u001b[0m\n\u001b[0m\u001b[0;32m     60\u001b[0m \u001b[1;33m\u001b[0m\u001b[0m\n\u001b[0;32m     61\u001b[0m \u001b[1;33m\u001b[0m\u001b[0m\n",
      "\u001b[1;32m~\\anaconda3\\lib\\site-packages\\requests\\sessions.py\u001b[0m in \u001b[0;36mrequest\u001b[1;34m(self, method, url, params, data, headers, cookies, files, auth, timeout, allow_redirects, proxies, hooks, stream, verify, cert, json)\u001b[0m\n\u001b[0;32m    585\u001b[0m         }\n\u001b[0;32m    586\u001b[0m         \u001b[0msend_kwargs\u001b[0m\u001b[1;33m.\u001b[0m\u001b[0mupdate\u001b[0m\u001b[1;33m(\u001b[0m\u001b[0msettings\u001b[0m\u001b[1;33m)\u001b[0m\u001b[1;33m\u001b[0m\u001b[1;33m\u001b[0m\u001b[0m\n\u001b[1;32m--> 587\u001b[1;33m         \u001b[0mresp\u001b[0m \u001b[1;33m=\u001b[0m \u001b[0mself\u001b[0m\u001b[1;33m.\u001b[0m\u001b[0msend\u001b[0m\u001b[1;33m(\u001b[0m\u001b[0mprep\u001b[0m\u001b[1;33m,\u001b[0m \u001b[1;33m**\u001b[0m\u001b[0msend_kwargs\u001b[0m\u001b[1;33m)\u001b[0m\u001b[1;33m\u001b[0m\u001b[1;33m\u001b[0m\u001b[0m\n\u001b[0m\u001b[0;32m    588\u001b[0m \u001b[1;33m\u001b[0m\u001b[0m\n\u001b[0;32m    589\u001b[0m         \u001b[1;32mreturn\u001b[0m \u001b[0mresp\u001b[0m\u001b[1;33m\u001b[0m\u001b[1;33m\u001b[0m\u001b[0m\n",
      "\u001b[1;32m~\\anaconda3\\lib\\site-packages\\requests\\sessions.py\u001b[0m in \u001b[0;36msend\u001b[1;34m(self, request, **kwargs)\u001b[0m\n\u001b[0;32m    699\u001b[0m \u001b[1;33m\u001b[0m\u001b[0m\n\u001b[0;32m    700\u001b[0m         \u001b[1;31m# Send the request\u001b[0m\u001b[1;33m\u001b[0m\u001b[1;33m\u001b[0m\u001b[0m\n\u001b[1;32m--> 701\u001b[1;33m         \u001b[0mr\u001b[0m \u001b[1;33m=\u001b[0m \u001b[0madapter\u001b[0m\u001b[1;33m.\u001b[0m\u001b[0msend\u001b[0m\u001b[1;33m(\u001b[0m\u001b[0mrequest\u001b[0m\u001b[1;33m,\u001b[0m \u001b[1;33m**\u001b[0m\u001b[0mkwargs\u001b[0m\u001b[1;33m)\u001b[0m\u001b[1;33m\u001b[0m\u001b[1;33m\u001b[0m\u001b[0m\n\u001b[0m\u001b[0;32m    702\u001b[0m \u001b[1;33m\u001b[0m\u001b[0m\n\u001b[0;32m    703\u001b[0m         \u001b[1;31m# Total elapsed time of the request (approximately)\u001b[0m\u001b[1;33m\u001b[0m\u001b[1;33m\u001b[0m\u001b[0m\n",
      "\u001b[1;32m~\\anaconda3\\lib\\site-packages\\requests\\adapters.py\u001b[0m in \u001b[0;36msend\u001b[1;34m(self, request, stream, timeout, verify, cert, proxies)\u001b[0m\n\u001b[0;32m    561\u001b[0m             \u001b[1;32mif\u001b[0m \u001b[0misinstance\u001b[0m\u001b[1;33m(\u001b[0m\u001b[0me\u001b[0m\u001b[1;33m.\u001b[0m\u001b[0mreason\u001b[0m\u001b[1;33m,\u001b[0m \u001b[0m_SSLError\u001b[0m\u001b[1;33m)\u001b[0m\u001b[1;33m:\u001b[0m\u001b[1;33m\u001b[0m\u001b[1;33m\u001b[0m\u001b[0m\n\u001b[0;32m    562\u001b[0m                 \u001b[1;31m# This branch is for urllib3 v1.22 and later.\u001b[0m\u001b[1;33m\u001b[0m\u001b[1;33m\u001b[0m\u001b[0m\n\u001b[1;32m--> 563\u001b[1;33m                 \u001b[1;32mraise\u001b[0m \u001b[0mSSLError\u001b[0m\u001b[1;33m(\u001b[0m\u001b[0me\u001b[0m\u001b[1;33m,\u001b[0m \u001b[0mrequest\u001b[0m\u001b[1;33m=\u001b[0m\u001b[0mrequest\u001b[0m\u001b[1;33m)\u001b[0m\u001b[1;33m\u001b[0m\u001b[1;33m\u001b[0m\u001b[0m\n\u001b[0m\u001b[0;32m    564\u001b[0m \u001b[1;33m\u001b[0m\u001b[0m\n\u001b[0;32m    565\u001b[0m             \u001b[1;32mraise\u001b[0m \u001b[0mConnectionError\u001b[0m\u001b[1;33m(\u001b[0m\u001b[0me\u001b[0m\u001b[1;33m,\u001b[0m \u001b[0mrequest\u001b[0m\u001b[1;33m=\u001b[0m\u001b[0mrequest\u001b[0m\u001b[1;33m)\u001b[0m\u001b[1;33m\u001b[0m\u001b[1;33m\u001b[0m\u001b[0m\n",
      "\u001b[1;31mSSLError\u001b[0m: HTTPSConnectionPool(host='www.fruityvice.com', port=443): Max retries exceeded with url: /api/fruit/all (Caused by SSLError(CertificateError(\"hostname 'www.fruityvice.com' doesn't match either of 'fruityvice.com', 'sonarqube.fruityvice.com'\")))"
     ]
    }
   ],
   "source": [
    "# Come back to this later I'm getting\n",
    "# CertificateError: hostname 'www.fruityvice.com' doesn't match either of 'fruityvice.com', 'sonarqube.fruityvice.com'\n",
    "\n",
    "data = requests.get(\"https://www.fruityvice.com/api/fruit/all\")"
   ]
  },
  {
   "cell_type": "markdown",
   "id": "602ef509-8362-4351-81f4-37d36d0faf3b",
   "metadata": {},
   "source": [
    "We will retrieve results using `json.loads()` function.\n"
   ]
  },
  {
   "cell_type": "code",
   "execution_count": 61,
   "id": "e55d1575-5106-46bf-a24f-870d6f166592",
   "metadata": {},
   "outputs": [],
   "source": [
    "# Commenting this out due to the error above\n",
    "\n",
    "#results = json.loads(data.text)"
   ]
  },
  {
   "cell_type": "markdown",
   "id": "864df24c-6982-4ccd-9feb-8ff361fe00b5",
   "metadata": {},
   "source": [
    "\n",
    "We will convert our json data into *pandas* data frame. \n"
   ]
  },
  {
   "cell_type": "code",
   "execution_count": 62,
   "id": "cc5b0a48-1711-45c5-92cc-1082f63c6d09",
   "metadata": {},
   "outputs": [],
   "source": [
    "# Commenting this out due to the error above\n",
    "\n",
    "#pd.DataFrame(results)"
   ]
  },
  {
   "cell_type": "markdown",
   "id": "c88b2014-6130-4cbd-ae14-9256f9f0e1be",
   "metadata": {},
   "source": [
    "The result is in a nested json format. The 'nutrition' column contains multiple subcolumns, so the data needs to be 'flattened' or normalized.\n"
   ]
  },
  {
   "cell_type": "code",
   "execution_count": 63,
   "id": "b209d6c5-ab68-42c0-a17e-ee416afc84fd",
   "metadata": {},
   "outputs": [],
   "source": [
    "# Commenting this out due to the error above\n",
    "\n",
    "#df2 = pd.json_normalize(results)"
   ]
  },
  {
   "cell_type": "code",
   "execution_count": 64,
   "id": "e76145a4-f77c-42c6-9b75-1f380b734de1",
   "metadata": {},
   "outputs": [],
   "source": [
    "# Commenting this out due to the error above\n",
    "\n",
    "#df2"
   ]
  },
  {
   "cell_type": "markdown",
   "id": "6e8f04a8-37c8-49a1-984a-7a4e748ca58d",
   "metadata": {},
   "source": [
    "Let's see if we can extract some information from this dataframe. Perhaps, we need to know the family and genus of a cherry.\n"
   ]
  },
  {
   "cell_type": "code",
   "execution_count": 65,
   "id": "8a425265-e4b9-4451-a0bb-7f8f41a84cd7",
   "metadata": {},
   "outputs": [],
   "source": [
    "# Commenting this out due to the error above\n",
    "\n",
    "#cherry = df2.loc[df2[\"name\"] == 'Cherry']\n",
    "#(cherry.iloc[0]['family']) , (cherry.iloc[0]['genus'])"
   ]
  },
  {
   "cell_type": "markdown",
   "id": "a6e6e78b-a6e4-4c1c-bd7d-a312f7fa0b2e",
   "metadata": {},
   "source": [
    "## Exercise 2\n",
    "In this Exercise, find out how many calories are contained in a banana.\n"
   ]
  },
  {
   "cell_type": "code",
   "execution_count": null,
   "id": "98c1ffd5-6dfd-4b7c-8481-6eaff8caa42a",
   "metadata": {},
   "outputs": [],
   "source": [
    "# Write your code here\n",
    "\n",
    "# df2[\"Calories\"][df2[\"Name\"] == 'banana']\n",
    "# that is what I would try would have to check the names though"
   ]
  },
  {
   "cell_type": "markdown",
   "id": "095b6c19-6864-4b2e-91c3-61c2a7ee7e46",
   "metadata": {},
   "source": [
    "<details><summary>Click here for the solution</summary>\n",
    "\n",
    "```python\n",
    "cal_banana = df2.loc[df2[\"name\"] == 'Banana']\n",
    "cal_banana.iloc[0]['nutritions.calories']\n",
    "```\n",
    "\n",
    "</details>\n"
   ]
  },
  {
   "cell_type": "markdown",
   "id": "963fbca0-2671-4bd3-a194-3e8d7a03316d",
   "metadata": {},
   "source": [
    "## Exercise 3\n",
    "\n",
    "This [page](https://github.com/public-apis/public-apis#animals) contains a list of free public APIs. Choose any API of your interest and use it to load/extract some information, as shown in the example above.\n",
    "1. Using `requests.get(\"url\")` function, load your data.\n"
   ]
  },
  {
   "cell_type": "code",
   "execution_count": 82,
   "id": "a8170667-71cd-43d9-b57e-3cd8f7688cb1",
   "metadata": {},
   "outputs": [],
   "source": [
    "# Write your code here\n",
    "\n",
    "data = requests.get(\"https://playerdb.co/api/player/minecraft/chonkerman\")"
   ]
  },
  {
   "cell_type": "markdown",
   "id": "e9626816-af9c-4d70-84bc-ba650b79ca74",
   "metadata": {},
   "source": [
    "<details><summary>Click here for the solution</summary>\n",
    "\n",
    "```python\n",
    "data2 = requests.get(\"https://www.fishwatch.gov/api/species\")\n",
    "```\n",
    "\n",
    "</details>\n"
   ]
  },
  {
   "cell_type": "markdown",
   "id": "a94bb99b-a701-498b-ae22-cf091c3d6be7",
   "metadata": {},
   "source": [
    "2. Retrieve results using `json.loads()` function.\n"
   ]
  },
  {
   "cell_type": "code",
   "execution_count": 85,
   "id": "dc098952-1a2a-4790-8440-e4c310cef86d",
   "metadata": {},
   "outputs": [],
   "source": [
    "# Write your code here\n",
    "\n",
    "results = json.loads(data.text)"
   ]
  },
  {
   "cell_type": "markdown",
   "id": "7945c3a0-6349-4180-ac0b-30db1caf72f6",
   "metadata": {},
   "source": [
    "<details><summary>Click here for the solution</summary>\n",
    "\n",
    "```python\n",
    "results2 = json.loads(data2.text)\n",
    "```\n",
    "\n",
    "</details>\n"
   ]
  },
  {
   "cell_type": "markdown",
   "id": "751dfb83-972c-49e9-9e93-a92af4c111a9",
   "metadata": {},
   "source": [
    "3. Convert json data into *pandas* data frame. \n"
   ]
  },
  {
   "cell_type": "code",
   "execution_count": 87,
   "id": "f1cf0945-2383-4554-b924-95e7abf1c30b",
   "metadata": {},
   "outputs": [
    {
     "data": {
      "text/html": [
       "<div>\n",
       "<style scoped>\n",
       "    .dataframe tbody tr th:only-of-type {\n",
       "        vertical-align: middle;\n",
       "    }\n",
       "\n",
       "    .dataframe tbody tr th {\n",
       "        vertical-align: top;\n",
       "    }\n",
       "\n",
       "    .dataframe thead th {\n",
       "        text-align: right;\n",
       "    }\n",
       "</style>\n",
       "<table border=\"1\" class=\"dataframe\">\n",
       "  <thead>\n",
       "    <tr style=\"text-align: right;\">\n",
       "      <th></th>\n",
       "      <th>code</th>\n",
       "      <th>message</th>\n",
       "      <th>success</th>\n",
       "      <th>data.player.meta.cached_at</th>\n",
       "      <th>data.player.username</th>\n",
       "      <th>data.player.id</th>\n",
       "      <th>data.player.raw_id</th>\n",
       "      <th>data.player.avatar</th>\n",
       "      <th>data.player.name_history</th>\n",
       "    </tr>\n",
       "  </thead>\n",
       "  <tbody>\n",
       "    <tr>\n",
       "      <th>0</th>\n",
       "      <td>player.found</td>\n",
       "      <td>Successfully found player by given ID.</td>\n",
       "      <td>True</td>\n",
       "      <td>1673801587</td>\n",
       "      <td>Chonkerman</td>\n",
       "      <td>0f7666b7-ac1e-4976-bc42-8c63149d4b2f</td>\n",
       "      <td>0f7666b7ac1e4976bc428c63149d4b2f</td>\n",
       "      <td>https://crafthead.net/avatar/0f7666b7ac1e4976b...</td>\n",
       "      <td>[]</td>\n",
       "    </tr>\n",
       "  </tbody>\n",
       "</table>\n",
       "</div>"
      ],
      "text/plain": [
       "           code                                 message  success  \\\n",
       "0  player.found  Successfully found player by given ID.     True   \n",
       "\n",
       "   data.player.meta.cached_at data.player.username  \\\n",
       "0                  1673801587           Chonkerman   \n",
       "\n",
       "                         data.player.id                data.player.raw_id  \\\n",
       "0  0f7666b7-ac1e-4976-bc42-8c63149d4b2f  0f7666b7ac1e4976bc428c63149d4b2f   \n",
       "\n",
       "                                  data.player.avatar data.player.name_history  \n",
       "0  https://crafthead.net/avatar/0f7666b7ac1e4976b...                       []  "
      ]
     },
     "execution_count": 87,
     "metadata": {},
     "output_type": "execute_result"
    }
   ],
   "source": [
    "# Write your code here\n",
    "\n",
    "df = pd.json_normalize(results)\n",
    "df.head()"
   ]
  },
  {
   "cell_type": "markdown",
   "id": "1bcd9fe8-9ee8-44eb-a02e-36a8c3c6023c",
   "metadata": {},
   "source": [
    "<details><summary>Click here for the solution</summary>\n",
    "\n",
    "```python\n",
    "df3 = pd.DataFrame(results2)\n",
    "df3\n",
    "```\n",
    "\n",
    "</details>\n"
   ]
  },
  {
   "cell_type": "markdown",
   "id": "17a05264-ae66-4eb0-bf17-6da7dcf329d3",
   "metadata": {},
   "source": [
    "# Congratulations! - You have completed the lab\n"
   ]
  },
  {
   "cell_type": "markdown",
   "id": "5d2605ca-4f86-4c26-8d36-4c4632f9071e",
   "metadata": {},
   "source": [
    "## Author\n",
    "[Svitlana Kramar](www.linkedin.com/in/svitlana-kramar)\n",
    "\n",
    "\n",
    "Svitlana is a master’s degree Data Science and Analytics student at University of Calgary, who enjoys travelling, learning new languages and cultures and loves spreading her passion for Data Science.\n"
   ]
  },
  {
   "cell_type": "markdown",
   "id": "c47f20b7-8df8-47d1-ab82-c14dbde12258",
   "metadata": {},
   "source": [
    "                                Copyright © 2020 IBM Corporation. All rights reserved.\n"
   ]
  }
 ],
 "metadata": {
  "kernelspec": {
   "display_name": "Python 3 (ipykernel)",
   "language": "python",
   "name": "python3"
  },
  "language_info": {
   "codemirror_mode": {
    "name": "ipython",
    "version": 3
   },
   "file_extension": ".py",
   "mimetype": "text/x-python",
   "name": "python",
   "nbconvert_exporter": "python",
   "pygments_lexer": "ipython3",
   "version": "3.9.13"
  }
 },
 "nbformat": 4,
 "nbformat_minor": 4
}
